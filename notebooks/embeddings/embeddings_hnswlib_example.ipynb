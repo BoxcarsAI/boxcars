{
 "cells": [
  {
   "attachments": {},
   "cell_type": "markdown",
   "metadata": {},
   "source": [
    "# Boxcars Embeddings example with hnswlib\n",
    "\n",
    "\n",
    "```bash \n",
    "gem install boxcars\n",
    "```\n",
    "\n",
    "and then create / edit .env to have OPENAI_ACCESS_TOEKN \n",
    "\n",
    "```ruby\n",
    "require 'dotenv/load'\n",
    "require 'boxcars'\n",
    "```"
   ]
  },
  {
   "cell_type": "code",
   "execution_count": null,
   "id": "45ec3504",
   "metadata": {},
   "outputs": [],
   "source": []
  },
  {
   "attachments": {},
   "cell_type": "markdown",
   "metadata": {},
   "source": [
    "## Examples\n",
    "\n",
    "### Boxcars::Embeddings::SaveToHnswlib\n",
    "\n",
    "Create hwswlib index file. It will use OpenAI's embeddings endpoint to create the embeddings and then save them to a hnswlib index file."
   ]
  },
  {
   "cell_type": "code",
   "execution_count": null,
   "metadata": {},
   "outputs": [],
   "source": [
    "# The Notion_DB data is from https://github.com/hwchase17/notion-qa\n",
    "\n",
    "require 'dotenv/load'\n",
    "lib_path = File.expand_path('../../lib', __dir__)\n",
    "$LOAD_PATH.unshift(lib_path) unless $LOAD_PATH.include?(lib_path)\n",
    "require 'boxcars'\n",
    "\n",
    "store = Boxcars::Embeddings::Hnswlib::BuildVectorStore.call(\n",
    "  training_data_path: './Notion_DB/**/*.md',\n",
    "  index_file_path: './hnswlib_notion_db_index.bin',\n",
    "  force_rebuild: false\n",
    ")\n",
    "openai_client = OpenAI::Client.new(access_token: ENV.fetch('OPENAI_API_KEY', nil))\n",
    "\n",
    "similarity_search = Boxcars::Embeddings::SimilaritySearch.new(\n",
    "  embeddings: \"#{File.dirname('./')}/hnswlib_notion_db_index.json\",\n",
    "  vector_store: store[:vector_store],\n",
    "  openai_connection: openai_client\n",
    ")\n",
    "# = >{:document=>\"we provide you with a laptop that suits your job. Ask HR for further info.\\n- **Workplace**: \\nwe've built a pretty nice office to make sure you like being at Blendle HQ. Feel free to sit where you want. Even better: dare to switch your workplace every once in a while.\\n\\n# Work at Blendle\\n\\n---\\n\\nIf you want to work at Blendle you can check our [job ads here](https://blendle.homerun.co/). If you want to be kept in the loop about Blendle, you can sign up for [our behind the scenes newsletter](https://blendle.homerun.co/yes-keep-me-posted/tr/apply?token=8092d4128c306003d97dd3821bad06f2).\", :distance=>120}\n"
   ]
  },
  {
   "cell_type": "markdown",
   "metadata": {},
   "source": []
  }
 ],
 "metadata": {
  "kernelspec": {
   "display_name": "Ruby 3.0.0",
   "language": "ruby",
   "name": "ruby"
  },
  "language_info": {
   "file_extension": ".rb",
   "mimetype": "application/x-ruby",
   "name": "ruby",
   "version": "3.0.3"
  }
 },
 "nbformat": 4,
 "nbformat_minor": 5
}
