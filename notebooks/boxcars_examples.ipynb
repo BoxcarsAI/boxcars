{
 "cells": [
  {
   "cell_type": "markdown",
   "id": "d17175a1-0f75-400b-a15f-e30975e40b80",
   "metadata": {},
   "source": [
    "# Boxcars Gem Notebook\n",
    "Below you will find some sample boxcar gem code fragments."
   ]
  },
  {
   "cell_type": "markdown",
   "id": "8c865805-1b6f-43fe-bb19-2c1597600b5c",
   "metadata": {},
   "source": [
    "## Env Setup\n",
    "Before we get started, install the gems we need here:\n",
    "```bash\n",
    "gem install boxcars dotenv\n",
    "```\n",
    "and then create / edit .env to have SERPAPI_API_KEY and OPENAI_ACCESS_TOKEN"
   ]
  },
  {
   "cell_type": "code",
   "execution_count": 1,
   "id": "1c4eb913-1e15-49a9-9b35-d4e21e5adfef",
   "metadata": {},
   "outputs": [
    {
     "data": {
      "text/plain": [
       "true"
      ]
     },
     "execution_count": 1,
     "metadata": {},
     "output_type": "execute_result"
    }
   ],
   "source": [
    "# setup for code below\n",
    "require \"dotenv/load\"\n",
    "require \"boxcars\""
   ]
  },
  {
   "cell_type": "markdown",
   "id": "13f664dd-1403-4a12-a6c7-d8a18287ce47",
   "metadata": {},
   "source": [
    "## Examples\n",
    "Here are several examples of using the boxcar gems. First we will start with individual Boxcars, and then we will move on to using Trains."
   ]
  },
  {
   "cell_type": "markdown",
   "id": "cc4ee1c4-705a-4c24-a42d-d821766be078",
   "metadata": {},
   "source": [
    "### Search using the Google Serp API (set SERPAPI_API_KEY in .env)"
   ]
  },
  {
   "cell_type": "code",
   "execution_count": 2,
   "id": "9915ff7c-dc15-4174-b92e-9e1dd317c0b6",
   "metadata": {},
   "outputs": [
    {
     "name": "stdout",
     "output_type": "stream",
     "text": [
      "Question: what temperature is it in Phoenix?\n",
      "Answer: High 66F\n"
     ]
    },
    {
     "data": {
      "text/plain": [
       "\"High 66F\""
      ]
     },
     "execution_count": 2,
     "metadata": {},
     "output_type": "execute_result"
    }
   ],
   "source": [
    "# showcase Google Serp search\n",
    "s = Boxcars::GoogleSearch.new\n",
    "s.run \"what temperature is it in Phoenix?\""
   ]
  },
  {
   "cell_type": "markdown",
   "id": "7e5c71bb-57e0-4a43-81e1-cd93e28067e9",
   "metadata": {},
   "source": [
    "### Calculator that uses ruby for hard math"
   ]
  },
  {
   "cell_type": "code",
   "execution_count": 3,
   "id": "4d7207f4-7c7b-48fd-bc3c-391e80969fdc",
   "metadata": {},
   "outputs": [
    {
     "name": "stdout",
     "output_type": "stream",
     "text": [
      "\u001b[1;30m> Entering Calculator#run\u001b[0m\n",
      "\u001b[0;34mwhat is pi to the third power times epsilon?\u001b[0m\n",
      "\u001b[0;31mhave error, trying again: Error: expecting your response to begin with '```ruby'. Try answering the question again.\u001b[0m\n",
      "\u001b[0;33mRubyREPL: epsilon = 2.71828 # replace with your value of epsilon\n",
      "puts Math::PI ** 3 * epsilon\u001b[0m\n",
      "\u001b[1;33mAnswer: 84.28374177452538\n",
      "\u001b[0m\n",
      "\u001b[0;35m{\"status\":\"ok\",\"answer\":\"84.28374177452538\",\"explanation\":\"Answer: 84.28374177452538\",\"code\":\"epsilon = 2.71828 # replace with your value of epsilon\\nputs Math::PI ** 3 * epsilon\"}\u001b[0m\n",
      "\u001b[1;30m< Exiting Calculator#run\u001b[0m\n"
     ]
    },
    {
     "data": {
      "text/plain": [
       "\"84.28374177452538\""
      ]
     },
     "execution_count": 3,
     "metadata": {},
     "output_type": "execute_result"
    }
   ],
   "source": [
    "c = Boxcars::Calculator.new\n",
    "c.run \"what is pi to the third power times epsilon?\""
   ]
  },
  {
   "cell_type": "markdown",
   "id": "0f526d81-b934-474a-bf88-15b31ab34d6e",
   "metadata": {},
   "source": [
    "### Active Record Example using SQL code generation"
   ]
  },
  {
   "cell_type": "code",
   "execution_count": 4,
   "id": "80d3355f-e118-4daa-be10-c752c6c3504b",
   "metadata": {},
   "outputs": [
    {
     "name": "stdout",
     "output_type": "stream",
     "text": [
      "-- create_table(\"users\", {:force=>:cascade})\n",
      "   -> 0.0083s\n",
      "-- create_table(\"comments\", {:force=>:cascade})\n",
      "   -> 0.0005s\n",
      "-- create_table(\"tickets\", {:force=>:cascade})\n",
      "   -> 0.0003s\n"
     ]
    },
    {
     "data": {
      "text/plain": [
       "true"
      ]
     },
     "execution_count": 4,
     "metadata": {},
     "output_type": "execute_result"
    }
   ],
   "source": [
    "# first stub out an in memory sqlite3 and a simple helpdesk example\n",
    "require 'active_record'\n",
    "require './helpdesk_sample'"
   ]
  },
  {
   "cell_type": "code",
   "execution_count": 5,
   "id": "ba8ffd6c-5826-4a52-8082-50308709291a",
   "metadata": {},
   "outputs": [
    {
     "name": "stdout",
     "output_type": "stream",
     "text": [
      "\u001b[1;30m> Entering Database#run\u001b[0m\n",
      "\u001b[0;34mHow many tickets are there?\u001b[0m\n",
      "\u001b[0;33mSELECT COUNT(*) FROM tickets;\u001b[0m\n",
      "\u001b[0;35m{\"status\":\"ok\",\"answer\":3,\"explanation\":\"Answer: 3\",\"code\":\"SELECT COUNT(*) FROM tickets;\"}\u001b[0m\n",
      "\u001b[1;30m< Exiting Database#run\u001b[0m\n"
     ]
    },
    {
     "data": {
      "text/plain": [
       "3"
      ]
     },
     "execution_count": 5,
     "metadata": {},
     "output_type": "execute_result"
    }
   ],
   "source": [
    "# get the answer\n",
    "boxcar = Boxcars::SQL.new\n",
    "boxcar.run \"How many tickets are there?\""
   ]
  },
  {
   "cell_type": "code",
   "execution_count": 7,
   "id": "e3d8c377-212c-4c4d-a644-989ed321bb13",
   "metadata": {},
   "outputs": [
    {
     "name": "stdout",
     "output_type": "stream",
     "text": [
      "\u001b[1;30m> Entering Database#run\u001b[0m\n",
      "\u001b[0;34mHow many comments do we have on tickets with a status of 1?\u001b[0m\n",
      "\u001b[0;33mSELECT COUNT(*) FROM comments JOIN tickets ON comments.ticket_id = tickets.id WHERE tickets.status = 1;\u001b[0m\n",
      "\u001b[0;35m{\"status\":\"ok\",\"answer\":0,\"explanation\":\"Answer: 0\",\"code\":\"SELECT COUNT(*) FROM comments JOIN tickets ON comments.ticket_id = tickets.id WHERE tickets.status = 1;\"}\u001b[0m\n",
      "\u001b[1;30m< Exiting Database#run\u001b[0m\n"
     ]
    },
    {
     "data": {
      "text/plain": [
       "0"
      ]
     },
     "execution_count": 7,
     "metadata": {},
     "output_type": "execute_result"
    }
   ],
   "source": [
    "boxcar.run \"How many comments do we have on tickets with a status of 1?\""
   ]
  },
  {
   "cell_type": "markdown",
   "id": "02681ecc-0ab6-4fbb-bac8-ac47c5b0e38c",
   "metadata": {},
   "source": [
    "### Active Record Example using ActiveRecord code generation"
   ]
  },
  {
   "cell_type": "code",
   "execution_count": 8,
   "id": "3cf3bc0f-fc9b-4dfa-b88b-0b140236f105",
   "metadata": {},
   "outputs": [
    {
     "name": "stdout",
     "output_type": "stream",
     "text": [
      "\u001b[1;30m> Entering helpdesk#run\u001b[0m\n",
      "\u001b[0;34mhow many comments do we have on open tickets?\u001b[0m\n",
      "\u001b[0;33mComment.joins(:ticket).where(tickets: {status: \"open\"}).count\u001b[0m\n",
      "\u001b[0;35m{\"status\":\"ok\",\"answer\":4,\"explanation\":\"Answer: 4\",\"code\":\"Comment.joins(:ticket).where(tickets: {status: \\\"open\\\"}).count\"}\u001b[0m\n",
      "\u001b[1;30m< Exiting helpdesk#run\u001b[0m\n"
     ]
    },
    {
     "data": {
      "text/plain": [
       "4"
      ]
     },
     "execution_count": 8,
     "metadata": {},
     "output_type": "execute_result"
    }
   ],
   "source": [
    "helpdesk = Boxcars::ActiveRecord.new(name: 'helpdesk', models: [Ticket, User, Comment])\n",
    "helpdesk.run \"how many comments do we have on open tickets?\""
   ]
  },
  {
   "cell_type": "markdown",
   "id": "06dd40a2-3a0d-42e4-8e39-a18d8441bb55",
   "metadata": {},
   "source": [
    "#### ActiveRecord is Read Only by default"
   ]
  },
  {
   "cell_type": "code",
   "execution_count": 9,
   "id": "8c08781d-2bb6-418f-90c2-665e8eabe3e6",
   "metadata": {
    "scrolled": true
   },
   "outputs": [
    {
     "name": "stdout",
     "output_type": "stream",
     "text": [
      "\u001b[1;30m> Entering helpdesk#run\u001b[0m\n",
      "\u001b[0;34mMove all of Sally's open tickets to John\u001b[0m\n",
      "\u001b[0;33mcomputing change count with: Ticket.where(user_id: User.find_by(name: 'Sally').id, status: 'open').update_all(user_id: User.find_by(name: 'John').id)\u001b[0m\n",
      "\u001b[0;33mhelpdesk(Pending Changes): 2\u001b[0m\n",
      "\u001b[0;31mCan not run code that makes 2 changes in read-only mode\u001b[0m\n",
      "\u001b[0;31mPermission to run code that makes changes denied\u001b[0m\n",
      "\u001b[1;30m< Exiting helpdesk#run\u001b[0m\n"
     ]
    },
    {
     "data": {
      "text/plain": [
       "\"Error: Permission to run code that makes changes denied\""
      ]
     },
     "execution_count": 9,
     "metadata": {},
     "output_type": "execute_result"
    }
   ],
   "source": [
    "helpdesk.run \"Move all of Sally's open tickets to John\""
   ]
  },
  {
   "cell_type": "markdown",
   "id": "c8ec9650-49ec-4e44-90ec-5563d3f4c1fc",
   "metadata": {},
   "source": [
    "#### But you can make changes if you want!"
   ]
  },
  {
   "cell_type": "code",
   "execution_count": 10,
   "id": "e1c2775e-4f46-4824-aa12-3ea2a4454437",
   "metadata": {},
   "outputs": [
    {
     "name": "stdout",
     "output_type": "stream",
     "text": [
      "\u001b[1;30m> Entering Helpdesk#run\u001b[0m\n",
      "\u001b[0;34mMove all of Sally's open tickets to John\u001b[0m\n",
      "\u001b[0;33mcomputing change count with: Ticket.where(user_id: User.find_by(name: 'Sally').id, status: 'open').update_all(user_id: User.find_by(name: 'John').id)\u001b[0m\n",
      "\u001b[0;33mHelpdesk(Pending Changes): 2\u001b[0m\n",
      "\u001b[0;33mTicket.where(user_id: User.find_by(name: 'John').id).where(status: 'open')\u001b[0m\n",
      "\u001b[0;35m{\"status\":\"ok\",\"answer\":[{\"id\":1,\"title\":\"First ticket\",\"user_id\":1,\"status\":\"open\",\"body\":\"This is the first ticket\",\"created_at\":\"2023-03-20T22:58:53.026Z\",\"updated_at\":\"2023-03-20T22:58:53.026Z\"}],\"explanation\":\"Answer: [{\\\"id\\\":1,\\\"title\\\":\\\"First ticket\\\",\\\"user_id\\\":1,\\\"status\\\":\\\"open\\\",\\\"body\\\":\\\"This is the first ticket\\\",\\\"created_at\\\":\\\"2023-03-20T22:58:53.026Z\\\",\\\"updated_at\\\":\\\"2023-03-20T22:58:53.026Z\\\"}]\",\"code\":\"Ticket.where(user_id: User.find_by(name: 'John').id).where(status: 'open')\"}\u001b[0m\n",
      "\u001b[1;30m< Exiting Helpdesk#run\u001b[0m\n"
     ]
    },
    {
     "data": {
      "text/plain": [
       "[{\"id\"=>1, \"title\"=>\"First ticket\", \"user_id\"=>1, \"status\"=>\"open\", \"body\"=>\"This is the first ticket\", \"created_at\"=>\"2023-03-20T22:58:53.026Z\", \"updated_at\"=>\"2023-03-20T22:58:53.026Z\"}]"
      ]
     },
     "execution_count": 10,
     "metadata": {},
     "output_type": "execute_result"
    }
   ],
   "source": [
    "rw_helpdesk = Boxcars::ActiveRecord.new(read_only: false, name: 'Helpdesk', models: [Ticket, User, Comment])\n",
    "rw_helpdesk.run \"Move all of Sally's open tickets to John\""
   ]
  },
  {
   "cell_type": "markdown",
   "id": "abecd0d5-4389-4712-993f-60a1a55100d1",
   "metadata": {
    "tags": []
   },
   "source": [
    "#### Or you can use a callback for approval if changes are needed"
   ]
  },
  {
   "cell_type": "code",
   "execution_count": 11,
   "id": "a3bcadf5-dfcb-47c3-96d0-8e49c925e71a",
   "metadata": {},
   "outputs": [
    {
     "name": "stdout",
     "output_type": "stream",
     "text": [
      "\u001b[1;30m> Entering Helpdesk#run\u001b[0m\n",
      "\u001b[0;34mMove all of John's open tickets to Sally\u001b[0m\n",
      "\u001b[0;33mcomputing change count with: Ticket.where(user_id: john.id, status: 'open').update_all(user_id: sally.id)\u001b[0m\n",
      "\u001b[0;31mError while running code: undefined local variable or method `john' for #<Boxcars::Acti ...\u001b[0m\n",
      "\u001b[0;31mhave error, trying again: ARChanges Error: undefined local variable or method `john - please fix \"ARChanges:\" to not have this error\u001b[0m\n",
      "\u001b[0;33mcomputing change count with: Ticket.where(user_id: User.find_by(name: 'John').id, status: 'open').update_all(user_id: User.find_by(name: 'Sally').id)\u001b[0m\n",
      "\u001b[0;33mHelpdesk(Pending Changes): 3\u001b[0m\n",
      ">>> Approving 3 changes <<<\n",
      "\u001b[0;33mTicket.where(user_id: User.find_by(name: 'John').id, status: 'open').update_all(user_id: User.find_by(name: 'Sally').id)\u001b[0m\n",
      "\u001b[0;35m{\"status\":\"ok\",\"answer\":3,\"explanation\":\"Answer: 3\",\"code\":\"Ticket.where(user_id: User.find_by(name: 'John').id, status: 'open').update_all(user_id: User.find_by(name: 'Sally').id)\"}\u001b[0m\n",
      "\u001b[1;30m< Exiting Helpdesk#run\u001b[0m\n"
     ]
    },
    {
     "data": {
      "text/plain": [
       "3"
      ]
     },
     "execution_count": 11,
     "metadata": {},
     "output_type": "execute_result"
    }
   ],
   "source": [
    "Ticket.update_all(user_id: User.find_by(name: 'John').id)\n",
    "my_approver = Proc.new do |change_count, code|\n",
    "    puts \">>> Approving #{change_count} changes <<<\"\n",
    "    true\n",
    "end\n",
    "ap_helpdesk = Boxcars::ActiveRecord.new(approval_callback: my_approver, name: 'Helpdesk', models: [Ticket, User, Comment])\n",
    "ap_helpdesk.run \"Move all of John's open tickets to Sally\""
   ]
  },
  {
   "cell_type": "markdown",
   "id": "31ca9cc6-8607-4600-aed1-a46d1b863722",
   "metadata": {},
   "source": [
    "## Putting it all together - Trains\n",
    "Trains uses a series of Boxcars to compute an answer by composing answers from the union of queries to individual boxcars as needed.\n",
    "### a one car train\n",
    "This is similar to just running Boxcar.run"
   ]
  },
  {
   "cell_type": "code",
   "execution_count": 12,
   "id": "ee6089de-907e-49fb-8889-fcefce851545",
   "metadata": {},
   "outputs": [
    {
     "name": "stdout",
     "output_type": "stream",
     "text": [
      "\u001b[1;30m> Entering Zero Shot#run\u001b[0m\n",
      "\u001b[0;34mwhat is pi squared?\u001b[0m\n",
      "\u001b[0;36m>>>>>> Role: system <<<<<<\n",
      "Answer the following questions as best you can. You have access to the following actions:\n",
      "Calculator: useful for when you need to answer questions about math\n",
      "Use the following format:\n",
      "Question: the input question you must answer\n",
      "Thought: you should always think about what to do\n",
      "Action: the action to take, should be one from this list: [Calculator]\n",
      "Action Input: the input to the action\n",
      "Observation: the result of the action\n",
      "... (this Thought/Action/Action Input/Observation sequence can repeat N times)\n",
      "Thought: I know the final answer\n",
      "Final Answer: the final answer to the original input question\n",
      "Next Actions: Up to 3 logical suggested next questions for the user to ask after getting this answer.\n",
      "Remember to start a line with \"Final Answer:\" to give me the final answer.\n",
      "Begin!\n",
      ">>>>>> Role: user <<<<<<\n",
      "Question: what is pi squared?\n",
      ">>>>>> Role: assistant <<<<<<\n",
      "Thought: \u001b[0m\n",
      "\u001b[0;33mThought: I know that pi is a mathematical constant approximately equal to 3.14159. To find pi squared, I need to multiply pi by itself.\u001b[0m\n",
      "\u001b[1;30m> Entering Calculator#run\u001b[0m\n",
      "\u001b[0;34mpi * pi\u001b[0m\n",
      "\u001b[0;36m>>>>>> Role: system <<<<<<\n",
      "You can do basic math, but for any hard calculations that a human could not do in their head, use the following approach instead. Return code written in the Ruby programming language that prints the results. If anyone gives you a hard math problem, just use the following format and we’ll take care of the rest:\n",
      "${{Question with hard calculation.}}\n",
      "reply only with the following format:\n",
      "```ruby\n",
      "${{only Ruby code that prints the answer}}\n",
      "```\n",
      "```output\n",
      "${{Output of your code}}\n",
      "```\n",
      "\n",
      "Otherwise, you should use this simpler format:\n",
      "${{Question without hard calculation}}\n",
      "Answer: ${{Answer}}\n",
      "\n",
      "Do not give an explanation of the answer and make sure your answer starts with either 'Answer:' or '```ruby'.\n",
      ">>>>>> Role: system <<<<<<\n",
      "here is a hard example:\n",
      "the user asks: What is 37593 * 67?\n",
      "your answer: ```ruby\n",
      "puts(37593 * 67)\n",
      "```\n",
      "```output\n",
      "2518731\n",
      "```\n",
      "Answer: 2518731\n",
      ">>>>>> Role: system <<<<<<\n",
      "basic example:\n",
      "user asks: What is 2518731 + 0?\n",
      "you answer: Answer: 2518731\n",
      ">>>>>> Role: system <<<<<<\n",
      "Begin.\n",
      ">>>>>> Role: user <<<<<<\n",
      "pi * pi\u001b[0m\n",
      "\u001b[0;33mRubyREPL: puts(Math::PI * Math::PI)\u001b[0m\n",
      "\u001b[1;33mAnswer: 9.869604401089358\n",
      "\u001b[0m\n",
      "\u001b[0;35m{\"status\":\"ok\",\"answer\":\"9.869604401089358\",\"explanation\":\"Answer: 9.869604401089358\",\"code\":\"puts(Math::PI * Math::PI)\"}\u001b[0m\n",
      "\u001b[1;30m< Exiting Calculator#run\u001b[0m\n",
      "\u001b[0;32mObservation: 9.869604401089358\u001b[0m\n",
      "\u001b[0;36m>>>>>> Role: system <<<<<<\n",
      "Answer the following questions as best you can. You have access to the following actions:\n",
      "Calculator: useful for when you need to answer questions about math\n",
      "Use the following format:\n",
      "Question: the input question you must answer\n",
      "Thought: you should always think about what to do\n",
      "Action: the action to take, should be one from this list: [Calculator]\n",
      "Action Input: the input to the action\n",
      "Observation: the result of the action\n",
      "... (this Thought/Action/Action Input/Observation sequence can repeat N times)\n",
      "Thought: I know the final answer\n",
      "Final Answer: the final answer to the original input question\n",
      "Next Actions: Up to 3 logical suggested next questions for the user to ask after getting this answer.\n",
      "Remember to start a line with \"Final Answer:\" to give me the final answer.\n",
      "Begin!\n",
      ">>>>>> Role: user <<<<<<\n",
      "Question: what is pi squared?\n",
      ">>>>>> Role: assistant <<<<<<\n",
      "Thought:  I know that pi is a mathematical constant approximately equal to 3.14159. To find pi squared, I need to multiply pi by itself.\n",
      "Action: Calculator\n",
      "Action Input: pi * pi\n",
      "Observation: 9.869604401089358\n",
      "Thought:\u001b[0m\n",
      "\u001b[1;33mI know the value of pi squared is 9.869604401089358.\n",
      "Final Answer: pi squared is approximately 9.869604401089358.\n",
      "Next Actions:\n",
      "1. What is the square root of pi squared?\n",
      "2. What is the value of pi cubed?\n",
      "3. What is the circumference of a circle with a radius of pi?\u001b[0m\n",
      "\u001b[1;30m< Exiting Zero Shot#run\u001b[0m\n",
      "pi squared is approximately 9.869604401089358.\n",
      "Next Actions:\n",
      "1. What is the square root of pi squared?\n",
      "2. What is the value of pi cubed?\n",
      "3. What is the circumference of a circle with a radius of pi?\n"
     ]
    }
   ],
   "source": [
    "c = Boxcars::Calculator.new\n",
    "Boxcars.configuration.log_prompts = true\n",
    "train = Boxcars.train.new(boxcars: [c])\n",
    "puts train.run \"what is pi squared?\""
   ]
  },
  {
   "cell_type": "markdown",
   "id": "0ebacfc7-7f9d-487b-832c-f5b787b10efd",
   "metadata": {},
   "source": [
    "### a two car train\n",
    "Here we have a HelpDesk ActiveRecord database and a calculator at our disposal to get an answer"
   ]
  },
  {
   "cell_type": "code",
   "execution_count": 13,
   "id": "418b7344-6612-4911-91a1-1585458a687f",
   "metadata": {},
   "outputs": [
    {
     "name": "stdout",
     "output_type": "stream",
     "text": [
      "\u001b[1;30m> Entering Zero Shot#run\u001b[0m\n",
      "\u001b[0;34mthe number of open helpdesk tickets that John commented on times 2 pi?\u001b[0m\n",
      "\u001b[0;36m>>>>>> Role: system <<<<<<\n",
      "Answer the following questions as best you can. You have access to the following actions:\n",
      "Calculator: useful for when you need to answer questions about math\n",
      "helpdesk: useful for when you need to query a database for an application named .\n",
      "Use the following format:\n",
      "Question: the input question you must answer\n",
      "Thought: you should always think about what to do\n",
      "Action: the action to take, should be one from this list: [Calculator, helpdesk]\n",
      "Action Input: the input to the action\n",
      "Observation: the result of the action\n",
      "... (this Thought/Action/Action Input/Observation sequence can repeat N times)\n",
      "Thought: I know the final answer\n",
      "Final Answer: the final answer to the original input question\n",
      "Next Actions: Up to 3 logical suggested next questions for the user to ask after getting this answer.\n",
      "Remember to start a line with \"Final Answer:\" to give me the final answer.\n",
      "Begin!\n",
      ">>>>>> Role: user <<<<<<\n",
      "Question: the number of open helpdesk tickets that John commented on times 2 pi?\n",
      ">>>>>> Role: assistant <<<<<<\n",
      "Thought: \u001b[0m\n",
      "\u001b[0;33mThought: We need to query the helpdesk database to find the number of open tickets that John commented on. Once we have that number, we can multiply it by 2 pi using the calculator. \u001b[0m\n",
      "\u001b[1;30m> Entering helpdesk#run\u001b[0m\n",
      "\u001b[0;34mWhat is the number of open tickets that John commented on?\u001b[0m\n",
      "\u001b[0;36m>>>>>> Role: system <<<<<<\n",
      "You are a Ruby on Rails Active Record code generator\n",
      ">>>>>> Role: system <<<<<<\n",
      "Given an input question, first create a syntactically correct Rails Active Record code to run, then look at the results of the code and return the answer. Unless the user specifies in her question a specific number of examples she wishes to obtain, limit your code to at most 5 results.\n",
      "Never query for all the columns from a specific model, only ask for the relevant attributes given the question.\n",
      "Also, pay attention to which attribute is in which model.\n",
      "\n",
      "Use the following format:\n",
      "Question: ${{Question here}}\n",
      "ARChanges: ${{Active Record code to compute the number of records going to change}} - Only add this line if the ARCode on the next line will make data changes.\n",
      "ARCode: ${{Active Record code to run}} - make sure you use valid code\n",
      "Answer: ${{Final answer here}}\n",
      "\n",
      "Only use the following Active Record models: [Ticket(id: integer, title: string, user_id: integer, status: integer, body: text, created_at: datetime, updated_at: datetime), User(id: integer, name: string, created_at: datetime, updated_at: datetime), Comment(id: integer, content: text, user_id: integer, ticket_id: integer, created_at: datetime, updated_at: datetime)]\n",
      "Pay attention to use only the attribute names that you can see in the model description.\n",
      "Do not make up variable or attribute names, and do not share variables between the code in ARChanges and ARCode\n",
      "Be careful to not query for attributes that do not exist, and to use the format specified above.\n",
      "\n",
      ">>>>>> Role: user <<<<<<\n",
      "Question: What is the number of open tickets that John commented on?\u001b[0m\n",
      "\u001b[0;33mTicket.joins(:comments, :user).where(status: 'open', comments: {user_id: User.find_by(name: 'John').id}).count\u001b[0m\n",
      "\u001b[0;35m{\"status\":\"ok\",\"answer\":2,\"explanation\":\"Answer: 2\",\"code\":\"Ticket.joins(:comments, :user).where(status: 'open', comments: {user_id: User.find_by(name: 'John').id}).count\"}\u001b[0m\n",
      "\u001b[1;30m< Exiting helpdesk#run\u001b[0m\n",
      "\u001b[0;32mObservation: 2\u001b[0m\n",
      "\u001b[0;36m>>>>>> Role: system <<<<<<\n",
      "Answer the following questions as best you can. You have access to the following actions:\n",
      "Calculator: useful for when you need to answer questions about math\n",
      "helpdesk: useful for when you need to query a database for an application named .\n",
      "Use the following format:\n",
      "Question: the input question you must answer\n",
      "Thought: you should always think about what to do\n",
      "Action: the action to take, should be one from this list: [Calculator, helpdesk]\n",
      "Action Input: the input to the action\n",
      "Observation: the result of the action\n",
      "... (this Thought/Action/Action Input/Observation sequence can repeat N times)\n",
      "Thought: I know the final answer\n",
      "Final Answer: the final answer to the original input question\n",
      "Next Actions: Up to 3 logical suggested next questions for the user to ask after getting this answer.\n",
      "Remember to start a line with \"Final Answer:\" to give me the final answer.\n",
      "Begin!\n",
      ">>>>>> Role: user <<<<<<\n",
      "Question: the number of open helpdesk tickets that John commented on times 2 pi?\n",
      ">>>>>> Role: assistant <<<<<<\n",
      "Thought:  We need to query the helpdesk database to find the number of open tickets that John commented on. Once we have that number, we can multiply it by 2 pi using the calculator. \n",
      "\n",
      "Action: helpdesk\n",
      "Action Input: \"What is the number of open tickets that John commented on?\"\n",
      "Observation: 2\n",
      "Thought:\u001b[0m\n",
      "\u001b[0;33mThought: Now that we know the number of open tickets that John commented on is 2, we can use the calculator to multiply it by 2 pi.\u001b[0m\n",
      "\u001b[1;30m> Entering Calculator#run\u001b[0m\n",
      "\u001b[0;34m2 * 2 * 3.14\u001b[0m\n",
      "\u001b[0;36m>>>>>> Role: system <<<<<<\n",
      "You can do basic math, but for any hard calculations that a human could not do in their head, use the following approach instead. Return code written in the Ruby programming language that prints the results. If anyone gives you a hard math problem, just use the following format and we’ll take care of the rest:\n",
      "${{Question with hard calculation.}}\n",
      "reply only with the following format:\n",
      "```ruby\n",
      "${{only Ruby code that prints the answer}}\n",
      "```\n",
      "```output\n",
      "${{Output of your code}}\n",
      "```\n",
      "\n",
      "Otherwise, you should use this simpler format:\n",
      "${{Question without hard calculation}}\n",
      "Answer: ${{Answer}}\n",
      "\n",
      "Do not give an explanation of the answer and make sure your answer starts with either 'Answer:' or '```ruby'.\n",
      ">>>>>> Role: system <<<<<<\n",
      "here is a hard example:\n",
      "the user asks: What is 37593 * 67?\n",
      "your answer: ```ruby\n",
      "puts(37593 * 67)\n",
      "```\n",
      "```output\n",
      "2518731\n",
      "```\n",
      "Answer: 2518731\n",
      ">>>>>> Role: system <<<<<<\n",
      "basic example:\n",
      "user asks: What is 2518731 + 0?\n",
      "you answer: Answer: 2518731\n",
      ">>>>>> Role: system <<<<<<\n",
      "Begin.\n",
      ">>>>>> Role: user <<<<<<\n",
      "2 * 2 * 3.14\u001b[0m\n",
      "\u001b[0;31mhave error, trying again: Error: expecting your response to begin with '```ruby'. Try answering the question again.\u001b[0m\n",
      "\u001b[0;36m>>>>>> Role: system <<<<<<\n",
      "You can do basic math, but for any hard calculations that a human could not do in their head, use the following approach instead. Return code written in the Ruby programming language that prints the results. If anyone gives you a hard math problem, just use the following format and we’ll take care of the rest:\n",
      "${{Question with hard calculation.}}\n",
      "reply only with the following format:\n",
      "```ruby\n",
      "${{only Ruby code that prints the answer}}\n",
      "```\n",
      "```output\n",
      "${{Output of your code}}\n",
      "```\n",
      "\n",
      "Otherwise, you should use this simpler format:\n",
      "${{Question without hard calculation}}\n",
      "Answer: ${{Answer}}\n",
      "\n",
      "Do not give an explanation of the answer and make sure your answer starts with either 'Answer:' or '```ruby'.\n",
      ">>>>>> Role: system <<<<<<\n",
      "here is a hard example:\n",
      "the user asks: What is 37593 * 67?\n",
      "your answer: ```ruby\n",
      "puts(37593 * 67)\n",
      "```\n",
      "```output\n",
      "2518731\n",
      "```\n",
      "Answer: 2518731\n",
      ">>>>>> Role: system <<<<<<\n",
      "basic example:\n",
      "user asks: What is 2518731 + 0?\n",
      "you answer: Answer: 2518731\n",
      ">>>>>> Role: system <<<<<<\n",
      "Begin.\n",
      ">>>>>> Role: user <<<<<<\n",
      "2 * 2 * 3.14\n",
      ">>>>>> Role: assistant <<<<<<\n",
      "puts(2 * 2 * 3.14)\n",
      ">>>>>> Role: user <<<<<<\n",
      "Error: expecting your response to begin with '```ruby'. Try answering the question again.\u001b[0m\n",
      "\u001b[0;33mRubyREPL: puts(2 * 2 * 3.14)\u001b[0m\n",
      "\u001b[1;33mAnswer: 12.56\n",
      "\u001b[0m\n",
      "\u001b[0;35m{\"status\":\"ok\",\"answer\":\"12.56\",\"explanation\":\"Answer: 12.56\",\"code\":\"puts(2 * 2 * 3.14)\"}\u001b[0m\n",
      "\u001b[1;30m< Exiting Calculator#run\u001b[0m\n",
      "\u001b[0;32mObservation: 12.56\u001b[0m\n",
      "\u001b[0;36m>>>>>> Role: system <<<<<<\n",
      "Answer the following questions as best you can. You have access to the following actions:\n",
      "Calculator: useful for when you need to answer questions about math\n",
      "helpdesk: useful for when you need to query a database for an application named .\n",
      "Use the following format:\n",
      "Question: the input question you must answer\n",
      "Thought: you should always think about what to do\n",
      "Action: the action to take, should be one from this list: [Calculator, helpdesk]\n",
      "Action Input: the input to the action\n",
      "Observation: the result of the action\n",
      "... (this Thought/Action/Action Input/Observation sequence can repeat N times)\n",
      "Thought: I know the final answer\n",
      "Final Answer: the final answer to the original input question\n",
      "Next Actions: Up to 3 logical suggested next questions for the user to ask after getting this answer.\n",
      "Remember to start a line with \"Final Answer:\" to give me the final answer.\n",
      "Begin!\n",
      ">>>>>> Role: user <<<<<<\n",
      "Question: the number of open helpdesk tickets that John commented on times 2 pi?\n",
      ">>>>>> Role: assistant <<<<<<\n",
      "Thought:  We need to query the helpdesk database to find the number of open tickets that John commented on. Once we have that number, we can multiply it by 2 pi using the calculator. \n",
      "\n",
      "Action: helpdesk\n",
      "Action Input: \"What is the number of open tickets that John commented on?\"\n",
      "Observation: 2\n",
      "Thought: Now that we know the number of open tickets that John commented on is 2, we can use the calculator to multiply it by 2 pi.\n",
      "\n",
      "Action: Calculator\n",
      "Action Input: 2 * 2 * 3.14\n",
      "Observation: 12.56\n",
      "Thought:\u001b[0m\n"
     ]
    },
    {
     "name": "stdout",
     "output_type": "stream",
     "text": [
      "\u001b[1;33mThe final answer is 12.56.\n",
      "\n",
      "Final Answer: 12.56\n",
      "\n",
      "Next Actions:\n",
      "1. What are the details of the two open tickets that John commented on?\n",
      "2. How many open tickets are there in total?\n",
      "3. What is the average response time for open tickets that John commented on?\u001b[0m\n",
      "\u001b[1;30m< Exiting Zero Shot#run\u001b[0m\n"
     ]
    },
    {
     "data": {
      "text/plain": [
       "\"12.56\\n\\nNext Actions:\\n1. What are the details of the two open tickets that John commented on?\\n2. How many open tickets are there in total?\\n3. What is the average response time for open tickets that John commented on?\""
      ]
     },
     "execution_count": 13,
     "metadata": {},
     "output_type": "execute_result"
    }
   ],
   "source": [
    "c = Boxcars::Calculator.new\n",
    "helpdesk = Boxcars::ActiveRecord.new(name: 'helpdesk', models: [Ticket, User, Comment])\n",
    "train = Boxcars.train.new(boxcars: [c, helpdesk])\n",
    "train.run \"the number of open helpdesk tickets that John commented on times 2 pi?\""
   ]
  },
  {
   "cell_type": "markdown",
   "id": "1b990233-b08a-46db-b674-063ca73f9381",
   "metadata": {},
   "source": [
    "#### a three car train"
   ]
  },
  {
   "cell_type": "code",
   "execution_count": 16,
   "id": "b637e0ba-e3a8-459e-b140-8a4c9e1e4572",
   "metadata": {},
   "outputs": [
    {
     "name": "stdout",
     "output_type": "stream",
     "text": [
      "\u001b[1;30m> Entering Zero Shot#run\u001b[0m\n",
      "\u001b[0;34mthe number of open helpdesk tickets that John commented on times 2 pi plus the temp in Phoenix\u001b[0m\n",
      "\u001b[1;30m> Entering helpdesk#run\u001b[0m\n",
      "\u001b[0;34mSearch for John's comments in the helpdesk tickets\u001b[0m\n",
      "\u001b[0;33mComment.where(user_id: User.find_by(name: 'John').id)\u001b[0m\n",
      "\u001b[0;35mAnswer: #<ActiveRecord::Relation [#<Comment id: 1, content: \"This is a comment\", user_id: 1, ticket_id: 1, created_at: \"2023-02-23 23:40:50.536049000 +0000\", updated_at: \"2023-02-23 23:40:50.536049000 +0000\">, #<Comment id: 2, content: \"This is johns second comment\", user_id: 1, ticket_id: 1, created_at: \"2023-02-23 23:40:50.536994000 +0000\", updated_at: \"2023-02-23 23:40:50.536994000 +0000\">]>\u001b[0m\n",
      "\u001b[1;30m< Exiting helpdesk#run\u001b[0m\n",
      "\u001b[0;32mObservation: Answer: #<ActiveRecord::Relation [#<Comment id: 1, content: \"This is a comment\", user_id: 1, ticket_id: 1, created_at: \"2023-02-23 23:40:50.536049000 +0000\", updated_at: \"2023-02-23 23:40:50.536049000 +0000\">, #<Comment id: 2, content: \"This is johns second comment\", user_id: 1, ticket_id: 1, created_at: \"2023-02-23 23:40:50.536994000 +0000\", updated_at: \"2023-02-23 23:40:50.536994000 +0000\">]>\u001b[0m\n",
      "Question: Temperature in Phoenix\n",
      "Answer: High 62F\n",
      "\u001b[0;32mObservation: High 62F\u001b[0m\n",
      "\u001b[1;30m> Entering Calculator#run\u001b[0m\n",
      "\u001b[0;34m2 pi + 62\u001b[0m\n",
      "\u001b[0;33mRubyREPL: puts(2 * Math::PI + 62)\u001b[0m\n",
      "\u001b[1;33mAnswer: 68.2831853071796\n",
      "\u001b[0m\n",
      "\u001b[0;35m68.2831853071796\u001b[0m\n",
      "\u001b[1;30m< Exiting Calculator#run\u001b[0m\n",
      "\u001b[0;32mObservation: 68.2831853071796\u001b[0m\n",
      "\u001b[1;33mI now know the final answer\n",
      "Final Answer: 68.2831853071796 open helpdesk tickets that John commented on times 2 pi plus the temp in Phoenix\u001b[0m\n",
      "\u001b[1;30m< Exiting Zero Shot#run\u001b[0m\n"
     ]
    },
    {
     "data": {
      "text/plain": [
       "\"68.2831853071796 open helpdesk tickets that John commented on times 2 pi plus the temp in Phoenix\""
      ]
     },
     "execution_count": 16,
     "metadata": {},
     "output_type": "execute_result"
    }
   ],
   "source": [
    "c = Boxcars::Calculator.new\n",
    "search = Boxcars::GoogleSearch.new\n",
    "helpdesk = Boxcars::ActiveRecord.new(name: 'helpdesk', models: [Ticket, User, Comment])\n",
    "train = Boxcars.train.new(boxcars: [c, helpdesk, search])\n",
    "train.run \"the number of open helpdesk tickets that John commented on times 2 pi plus the temp in Phoenix\""
   ]
  },
  {
   "cell_type": "markdown",
   "id": "3b09012f-ef34-4e15-bd50-10e171c621e9",
   "metadata": {},
   "source": [
    "#### Add as many as you want."
   ]
  },
  {
   "cell_type": "code",
   "execution_count": null,
   "id": "5fc80eca-c6cd-47d2-8bc3-1d3f95ce7960",
   "metadata": {},
   "outputs": [],
   "source": []
  }
 ],
 "metadata": {
  "kernelspec": {
   "display_name": "Ruby 3.0.0",
   "language": "ruby",
   "name": "ruby"
  },
  "language_info": {
   "file_extension": ".rb",
   "mimetype": "application/x-ruby",
   "name": "ruby",
   "version": "3.0.3"
  }
 },
 "nbformat": 4,
 "nbformat_minor": 5
}
