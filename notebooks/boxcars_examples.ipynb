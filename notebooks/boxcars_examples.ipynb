{
 "cells": [
  {
   "cell_type": "markdown",
   "id": "d17175a1-0f75-400b-a15f-e30975e40b80",
   "metadata": {},
   "source": [
    "# Boxcars Gem Notebook\n",
    "Below you will find some sample boxcar gem code fragments."
   ]
  },
  {
   "cell_type": "markdown",
   "id": "8c865805-1b6f-43fe-bb19-2c1597600b5c",
   "metadata": {},
   "source": [
    "## Env Setup\n",
    "Before we get started, install the gems we need here:\n",
    "```bash\n",
    "gem install boxcars dotenv\n",
    "```\n",
    "and then create / edit .env to have SERPAPI_API_KEY and OPENAI_ACCESS_TOKEN"
   ]
  },
  {
   "cell_type": "code",
   "execution_count": 1,
   "id": "1c4eb913-1e15-49a9-9b35-d4e21e5adfef",
   "metadata": {},
   "outputs": [
    {
     "data": {
      "text/plain": [
       "true"
      ]
     },
     "execution_count": 1,
     "metadata": {},
     "output_type": "execute_result"
    }
   ],
   "source": [
    "# setup for code below\n",
    "require \"dotenv/load\"\n",
    "require \"boxcars\""
   ]
  },
  {
   "cell_type": "markdown",
   "id": "13f664dd-1403-4a12-a6c7-d8a18287ce47",
   "metadata": {},
   "source": [
    "## Examples\n",
    "Here are several examples of using the boxcar gems. First we will start with individual Boxcars, and then we will move on to using Trains."
   ]
  },
  {
   "cell_type": "markdown",
   "id": "cc4ee1c4-705a-4c24-a42d-d821766be078",
   "metadata": {},
   "source": [
    "### Search using the Google Serp API (set SERPAPI_API_KEY in .env)"
   ]
  },
  {
   "cell_type": "code",
   "execution_count": 2,
   "id": "9915ff7c-dc15-4174-b92e-9e1dd317c0b6",
   "metadata": {},
   "outputs": [
    {
     "name": "stdout",
     "output_type": "stream",
     "text": [
      "Question: what temperature is it in Phoenix?\n",
      "Answer: High 62F\n"
     ]
    },
    {
     "data": {
      "text/plain": [
       "\"High 62F\""
      ]
     },
     "execution_count": 2,
     "metadata": {},
     "output_type": "execute_result"
    }
   ],
   "source": [
    "# showcase Google Serp search\n",
    "s = Boxcars::GoogleSearch.new\n",
    "s.run \"what temperature is it in Phoenix?\""
   ]
  },
  {
   "cell_type": "markdown",
   "id": "7e5c71bb-57e0-4a43-81e1-cd93e28067e9",
   "metadata": {},
   "source": [
    "### Calculator that uses ruby for hard math"
   ]
  },
  {
   "cell_type": "code",
   "execution_count": 3,
   "id": "4d7207f4-7c7b-48fd-bc3c-391e80969fdc",
   "metadata": {},
   "outputs": [
    {
     "name": "stdout",
     "output_type": "stream",
     "text": [
      "\u001b[1;30m> Entering Calculator#run\u001b[0m\n",
      "\u001b[0;34mwhat is pi to the third power times epsilon?\u001b[0m\n",
      "\u001b[0;33mRubyREPL: puts(Math::PI ** 3 * Math::E)\u001b[0m\n",
      "\u001b[1;33mAnswer: 84.28379846823243\n",
      "\u001b[0m\n",
      "\u001b[0;35m84.28379846823243\u001b[0m\n",
      "\u001b[1;30m< Exiting Calculator#run\u001b[0m\n"
     ]
    },
    {
     "data": {
      "text/plain": [
       "\"84.28379846823243\""
      ]
     },
     "execution_count": 3,
     "metadata": {},
     "output_type": "execute_result"
    }
   ],
   "source": [
    "c = Boxcars::Calculator.new\n",
    "c.run \"what is pi to the third power times epsilon?\""
   ]
  },
  {
   "cell_type": "markdown",
   "id": "0f526d81-b934-474a-bf88-15b31ab34d6e",
   "metadata": {},
   "source": [
    "### Active Record Example using SQL code generation"
   ]
  },
  {
   "cell_type": "code",
   "execution_count": 4,
   "id": "80d3355f-e118-4daa-be10-c752c6c3504b",
   "metadata": {},
   "outputs": [
    {
     "name": "stdout",
     "output_type": "stream",
     "text": [
      "-- create_table(\"users\", {:force=>:cascade})\n",
      "   -> 0.0165s\n",
      "-- create_table(\"comments\", {:force=>:cascade})\n",
      "   -> 0.0004s\n",
      "-- create_table(\"tickets\", {:force=>:cascade})\n",
      "   -> 0.0003s\n"
     ]
    },
    {
     "data": {
      "text/plain": [
       "true"
      ]
     },
     "execution_count": 4,
     "metadata": {},
     "output_type": "execute_result"
    }
   ],
   "source": [
    "# first stub out an in memory sqlite3 and a simple helpdesk example\n",
    "require 'active_record'\n",
    "require './helpdesk_sample'"
   ]
  },
  {
   "cell_type": "code",
   "execution_count": 5,
   "id": "ba8ffd6c-5826-4a52-8082-50308709291a",
   "metadata": {},
   "outputs": [
    {
     "name": "stdout",
     "output_type": "stream",
     "text": [
      "\u001b[1;30m> Entering data#run\u001b[0m\n",
      "\u001b[0;34mhow many open tickets for John?\u001b[0m\n",
      "\u001b[0;33mSELECT COUNT(*) FROM tickets t INNER JOIN users u ON t.user_id = u.id WHERE u.name = 'John' AND t.status = 0;\u001b[0m\n",
      "\u001b[0;35mAnswer: [{\"COUNT(*)\"=>1}]\u001b[0m\n",
      "\u001b[1;30m< Exiting data#run\u001b[0m\n"
     ]
    },
    {
     "data": {
      "text/plain": [
       "\"Answer: [{\\\"COUNT(*)\\\"=>1}]\""
      ]
     },
     "execution_count": 5,
     "metadata": {},
     "output_type": "execute_result"
    }
   ],
   "source": [
    "# get the answer\n",
    "boxcar = Boxcars::SQL.new\n",
    "boxcar.run \"how many open tickets for John?\""
   ]
  },
  {
   "cell_type": "code",
   "execution_count": 6,
   "id": "e3d8c377-212c-4c4d-a644-989ed321bb13",
   "metadata": {},
   "outputs": [
    {
     "name": "stdout",
     "output_type": "stream",
     "text": [
      "\u001b[1;30m> Entering data#run\u001b[0m\n",
      "\u001b[0;34mhow many comments do we have on closed tickets?\u001b[0m\n",
      "\u001b[0;33mSELECT count(*) FROM comments c INNER JOIN tickets t ON c.ticket_id=t.id WHERE t.status = 0;\u001b[0m\n",
      "\u001b[0;35mAnswer: [{\"count(*)\"=>4}]\u001b[0m\n",
      "\u001b[1;30m< Exiting data#run\u001b[0m\n"
     ]
    },
    {
     "data": {
      "text/plain": [
       "\"Answer: [{\\\"count(*)\\\"=>4}]\""
      ]
     },
     "execution_count": 6,
     "metadata": {},
     "output_type": "execute_result"
    }
   ],
   "source": [
    "boxcar.run \"how many comments do we have on closed tickets?\""
   ]
  },
  {
   "cell_type": "markdown",
   "id": "02681ecc-0ab6-4fbb-bac8-ac47c5b0e38c",
   "metadata": {},
   "source": [
    "### Active Record Example using ActiveRecord code generation"
   ]
  },
  {
   "cell_type": "code",
   "execution_count": 7,
   "id": "3cf3bc0f-fc9b-4dfa-b88b-0b140236f105",
   "metadata": {},
   "outputs": [
    {
     "name": "stdout",
     "output_type": "stream",
     "text": [
      "\u001b[1;30m> Entering helpdesk#run\u001b[0m\n",
      "\u001b[0;34mhow many comments do we have on open tickets?\u001b[0m\n",
      "\u001b[0;33mComment.where(ticket: Ticket.where(status: 0)).count\u001b[0m\n",
      "\u001b[0;35mAnswer: 4\u001b[0m\n",
      "\u001b[1;30m< Exiting helpdesk#run\u001b[0m\n"
     ]
    },
    {
     "data": {
      "text/plain": [
       "\"Answer: 4\""
      ]
     },
     "execution_count": 7,
     "metadata": {},
     "output_type": "execute_result"
    }
   ],
   "source": [
    "helpdesk = Boxcars::ActiveRecord.new(name: 'helpdesk', models: [Ticket, User, Comment])\n",
    "helpdesk.run \"how many comments do we have on open tickets?\""
   ]
  },
  {
   "cell_type": "markdown",
   "id": "06dd40a2-3a0d-42e4-8e39-a18d8441bb55",
   "metadata": {},
   "source": [
    "#### ActiveRecord is Read Only by default"
   ]
  },
  {
   "cell_type": "code",
   "execution_count": 8,
   "id": "8c08781d-2bb6-418f-90c2-665e8eabe3e6",
   "metadata": {},
   "outputs": [
    {
     "name": "stdout",
     "output_type": "stream",
     "text": [
      "\u001b[1;30m> Entering helpdesk#run\u001b[0m\n",
      "\u001b[0;34mMove all of Sally's open tickets to John\u001b[0m\n",
      "\u001b[0;33mcomputing change count with: Ticket.where(user_id: Sally.id, status: 0).count\u001b[0m\n",
      "\u001b[0;33mTicket.where(user_id: Sally.id, status: 0).update_all(user_id: John.id)\u001b[0m\n",
      "\u001b[0;35mAnswer: nil\u001b[0m\n",
      "\u001b[1;30m< Exiting helpdesk#run\u001b[0m\n"
     ]
    },
    {
     "data": {
      "text/plain": [
       "\"Answer: nil\""
      ]
     },
     "execution_count": 8,
     "metadata": {},
     "output_type": "execute_result"
    }
   ],
   "source": [
    "helpdesk.run \"Move all of Sally's open tickets to John\""
   ]
  },
  {
   "cell_type": "markdown",
   "id": "c8ec9650-49ec-4e44-90ec-5563d3f4c1fc",
   "metadata": {},
   "source": [
    "#### But you can make changes if you want!"
   ]
  },
  {
   "cell_type": "code",
   "execution_count": 11,
   "id": "e1c2775e-4f46-4824-aa12-3ea2a4454437",
   "metadata": {},
   "outputs": [
    {
     "name": "stdout",
     "output_type": "stream",
     "text": [
      "\u001b[1;30m> Entering Helpdesk#run\u001b[0m\n",
      "\u001b[0;34mMove all of Sally's open tickets to John\u001b[0m\n",
      "\u001b[0;33mcomputing change count with: Ticket.where(status: 0, user_id: User.where(name: \"Sally\")).count\u001b[0m\n",
      "\u001b[1;33mPending Changes: 2\u001b[0m\n",
      "\u001b[0;33mTicket.where(status: 0, user_id: User.where(name: \"Sally\")).update_all(user_id: User.where(name: \"John\"))\u001b[0m\n",
      "\u001b[0;35mAnswer: 2\u001b[0m\n",
      "\u001b[1;30m< Exiting Helpdesk#run\u001b[0m\n"
     ]
    },
    {
     "data": {
      "text/plain": [
       "\"Answer: 2\""
      ]
     },
     "execution_count": 11,
     "metadata": {},
     "output_type": "execute_result"
    }
   ],
   "source": [
    "rw_helpdesk = Boxcars::ActiveRecord.new(read_only: false, name: 'Helpdesk', models: [Ticket, User, Comment])\n",
    "rw_helpdesk.run \"Move all of Sally's open tickets to John\""
   ]
  },
  {
   "cell_type": "markdown",
   "id": "abecd0d5-4389-4712-993f-60a1a55100d1",
   "metadata": {
    "tags": []
   },
   "source": [
    "#### Or you can use a callback for approval if changes are needed"
   ]
  },
  {
   "cell_type": "code",
   "execution_count": 13,
   "id": "a3bcadf5-dfcb-47c3-96d0-8e49c925e71a",
   "metadata": {},
   "outputs": [
    {
     "name": "stdout",
     "output_type": "stream",
     "text": [
      "\u001b[1;30m> Entering Helpdesk#run\u001b[0m\n",
      "\u001b[0;34mMove all of John's open tickets to Sally\u001b[0m\n",
      "\u001b[0;33mcomputing change count with: Ticket.where(user_id: User.find_by(name: 'John'), status: 0).count\u001b[0m\n",
      "\u001b[1;33mPending Changes: 3\u001b[0m\n",
      "\u001b[0;32m>>> Approving 3 changes <<<\u001b[0m\n",
      "\u001b[0;33mTicket.where(user_id: User.find_by(name: 'John'), status: 0).update_all(user_id: User.find_by(name: 'Sally'))\u001b[0m\n",
      "\u001b[0;35mAnswer: 3\u001b[0m\n",
      "\u001b[1;30m< Exiting Helpdesk#run\u001b[0m\n"
     ]
    },
    {
     "data": {
      "text/plain": [
       "\"Answer: 3\""
      ]
     },
     "execution_count": 13,
     "metadata": {},
     "output_type": "execute_result"
    }
   ],
   "source": [
    "Ticket.update_all(user_id: User.find_by(name: 'John').id)\n",
    "my_approver = Proc.new do |change_count, code|\n",
    "    puts \">>> Approving #{change_count} changes <<<\".colorize(:green)\n",
    "    true\n",
    "end\n",
    "ap_helpdesk = Boxcars::ActiveRecord.new(approval_callback: my_approver, name: 'Helpdesk', models: [Ticket, User, Comment])\n",
    "ap_helpdesk.run \"Move all of John's open tickets to Sally\""
   ]
  },
  {
   "cell_type": "markdown",
   "id": "31ca9cc6-8607-4600-aed1-a46d1b863722",
   "metadata": {},
   "source": [
    "## Putting it all together - Trains\n",
    "Trains uses a series of Boxcars to compute an answer by composing answers from the union of queries to individual boxcars as needed.\n",
    "### a one car train\n",
    "This is similar to just running Boxcar.run"
   ]
  },
  {
   "cell_type": "code",
   "execution_count": 14,
   "id": "ee6089de-907e-49fb-8889-fcefce851545",
   "metadata": {},
   "outputs": [
    {
     "name": "stdout",
     "output_type": "stream",
     "text": [
      "\u001b[1;30m> Entering Zero Shot#run\u001b[0m\n",
      "\u001b[0;34mwhat is pi squared?\u001b[0m\n",
      "\u001b[1;30m> Entering Calculator#run\u001b[0m\n",
      "\u001b[0;34mpi * pi\u001b[0m\n",
      "\u001b[0;35mAnswer: 9.869604401089358\u001b[0m\n",
      "\u001b[1;30m< Exiting Calculator#run\u001b[0m\n",
      "\u001b[0;32mObservation: Answer: 9.869604401089358\u001b[0m\n",
      "\u001b[1;33mI now know the final answer\n",
      "Final Answer: 9.869604401089358\u001b[0m\n",
      "\u001b[1;30m< Exiting Zero Shot#run\u001b[0m\n"
     ]
    },
    {
     "data": {
      "text/plain": [
       "\"9.869604401089358\""
      ]
     },
     "execution_count": 14,
     "metadata": {},
     "output_type": "execute_result"
    }
   ],
   "source": [
    "c = Boxcars::Calculator.new\n",
    "train = Boxcars.train.new(boxcars: [c])\n",
    "train.run \"what is pi squared?\""
   ]
  },
  {
   "cell_type": "markdown",
   "id": "0ebacfc7-7f9d-487b-832c-f5b787b10efd",
   "metadata": {},
   "source": [
    "### a two car train\n",
    "Here we have a HelpDesk ActiveRecord database and a calculator at our disposal to get an answer"
   ]
  },
  {
   "cell_type": "code",
   "execution_count": 15,
   "id": "418b7344-6612-4911-91a1-1585458a687f",
   "metadata": {},
   "outputs": [
    {
     "name": "stdout",
     "output_type": "stream",
     "text": [
      "\u001b[1;30m> Entering Zero Shot#run\u001b[0m\n",
      "\u001b[0;34mthe number of open helpdesk tickets that John commented on times 2 pi?\u001b[0m\n",
      "\u001b[1;30m> Entering helpdesk#run\u001b[0m\n",
      "\u001b[0;34mHow many tickets did John comment on?\u001b[0m\n",
      "\u001b[0;33mComment.where(user_id: User.where(name: 'John').first.id).count\u001b[0m\n",
      "\u001b[0;35mAnswer: 2\u001b[0m\n",
      "\u001b[1;30m< Exiting helpdesk#run\u001b[0m\n",
      "\u001b[0;32mObservation: Answer: 2\u001b[0m\n",
      "\u001b[1;30m> Entering Calculator#run\u001b[0m\n",
      "\u001b[0;34m2 * 2 pi\u001b[0m\n",
      "\u001b[0;33mRubyREPL: puts(2 * 2 * Math::PI)\u001b[0m\n",
      "\u001b[1;33mAnswer: 12.566370614359172\n",
      "\u001b[0m\n",
      "\u001b[0;35m12.566370614359172\u001b[0m\n",
      "\u001b[1;30m< Exiting Calculator#run\u001b[0m\n",
      "\u001b[0;32mObservation: 12.566370614359172\u001b[0m\n",
      "\u001b[1;33mI now know the final answer\n",
      "Final Answer: 12.566370614359172\u001b[0m\n",
      "\u001b[1;30m< Exiting Zero Shot#run\u001b[0m\n"
     ]
    },
    {
     "data": {
      "text/plain": [
       "\"12.566370614359172\""
      ]
     },
     "execution_count": 15,
     "metadata": {},
     "output_type": "execute_result"
    }
   ],
   "source": [
    "c = Boxcars::Calculator.new\n",
    "helpdesk = Boxcars::ActiveRecord.new(name: 'helpdesk', models: [Ticket, User, Comment])\n",
    "train = Boxcars.train.new(boxcars: [c, helpdesk])\n",
    "train.run \"the number of open helpdesk tickets that John commented on times 2 pi?\""
   ]
  },
  {
   "cell_type": "markdown",
   "id": "1b990233-b08a-46db-b674-063ca73f9381",
   "metadata": {},
   "source": [
    "#### a three car train"
   ]
  },
  {
   "cell_type": "code",
   "execution_count": 16,
   "id": "b637e0ba-e3a8-459e-b140-8a4c9e1e4572",
   "metadata": {},
   "outputs": [
    {
     "name": "stdout",
     "output_type": "stream",
     "text": [
      "\u001b[1;30m> Entering Zero Shot#run\u001b[0m\n",
      "\u001b[0;34mthe number of open helpdesk tickets that John commented on times 2 pi plus the temp in Phoenix\u001b[0m\n",
      "\u001b[1;30m> Entering helpdesk#run\u001b[0m\n",
      "\u001b[0;34mSearch for John's comments in the helpdesk tickets\u001b[0m\n",
      "\u001b[0;33mComment.where(user_id: User.find_by(name: 'John').id)\u001b[0m\n",
      "\u001b[0;35mAnswer: #<ActiveRecord::Relation [#<Comment id: 1, content: \"This is a comment\", user_id: 1, ticket_id: 1, created_at: \"2023-02-23 23:40:50.536049000 +0000\", updated_at: \"2023-02-23 23:40:50.536049000 +0000\">, #<Comment id: 2, content: \"This is johns second comment\", user_id: 1, ticket_id: 1, created_at: \"2023-02-23 23:40:50.536994000 +0000\", updated_at: \"2023-02-23 23:40:50.536994000 +0000\">]>\u001b[0m\n",
      "\u001b[1;30m< Exiting helpdesk#run\u001b[0m\n",
      "\u001b[0;32mObservation: Answer: #<ActiveRecord::Relation [#<Comment id: 1, content: \"This is a comment\", user_id: 1, ticket_id: 1, created_at: \"2023-02-23 23:40:50.536049000 +0000\", updated_at: \"2023-02-23 23:40:50.536049000 +0000\">, #<Comment id: 2, content: \"This is johns second comment\", user_id: 1, ticket_id: 1, created_at: \"2023-02-23 23:40:50.536994000 +0000\", updated_at: \"2023-02-23 23:40:50.536994000 +0000\">]>\u001b[0m\n",
      "Question: Temperature in Phoenix\n",
      "Answer: High 62F\n",
      "\u001b[0;32mObservation: High 62F\u001b[0m\n",
      "\u001b[1;30m> Entering Calculator#run\u001b[0m\n",
      "\u001b[0;34m2 pi + 62\u001b[0m\n",
      "\u001b[0;33mRubyREPL: puts(2 * Math::PI + 62)\u001b[0m\n",
      "\u001b[1;33mAnswer: 68.2831853071796\n",
      "\u001b[0m\n",
      "\u001b[0;35m68.2831853071796\u001b[0m\n",
      "\u001b[1;30m< Exiting Calculator#run\u001b[0m\n",
      "\u001b[0;32mObservation: 68.2831853071796\u001b[0m\n",
      "\u001b[1;33mI now know the final answer\n",
      "Final Answer: 68.2831853071796 open helpdesk tickets that John commented on times 2 pi plus the temp in Phoenix\u001b[0m\n",
      "\u001b[1;30m< Exiting Zero Shot#run\u001b[0m\n"
     ]
    },
    {
     "data": {
      "text/plain": [
       "\"68.2831853071796 open helpdesk tickets that John commented on times 2 pi plus the temp in Phoenix\""
      ]
     },
     "execution_count": 16,
     "metadata": {},
     "output_type": "execute_result"
    }
   ],
   "source": [
    "c = Boxcars::Calculator.new\n",
    "search = Boxcars::GoogleSearch.new\n",
    "helpdesk = Boxcars::ActiveRecord.new(name: 'helpdesk', models: [Ticket, User, Comment])\n",
    "train = Boxcars.train.new(boxcars: [c, helpdesk, search])\n",
    "train.run \"the number of open helpdesk tickets that John commented on times 2 pi plus the temp in Phoenix\""
   ]
  },
  {
   "cell_type": "markdown",
   "id": "3b09012f-ef34-4e15-bd50-10e171c621e9",
   "metadata": {},
   "source": [
    "#### Add as many as you want."
   ]
  },
  {
   "cell_type": "code",
   "execution_count": null,
   "id": "5fc80eca-c6cd-47d2-8bc3-1d3f95ce7960",
   "metadata": {},
   "outputs": [],
   "source": []
  }
 ],
 "metadata": {
  "kernelspec": {
   "display_name": "Ruby 3.0.0",
   "language": "ruby",
   "name": "ruby"
  },
  "language_info": {
   "file_extension": ".rb",
   "mimetype": "application/x-ruby",
   "name": "ruby",
   "version": "3.0.3"
  }
 },
 "nbformat": 4,
 "nbformat_minor": 5
}
