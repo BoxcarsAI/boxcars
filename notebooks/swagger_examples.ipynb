{
 "cells": [
  {
   "cell_type": "markdown",
   "id": "ba12cec0",
   "metadata": {},
   "source": [
    "# Swagger Boxcar examples"
   ]
  },
  {
   "cell_type": "code",
   "execution_count": 1,
   "id": "4a04eb33",
   "metadata": {},
   "outputs": [
    {
     "data": {
      "text/plain": [
       "true"
      ]
     },
     "execution_count": 1,
     "metadata": {},
     "output_type": "execute_result"
    }
   ],
   "source": [
    "# setup for code below - make sure you gem install boxcars and dotenv\n",
    "require \"dotenv/load\"\n",
    "require \"boxcars\""
   ]
  },
  {
   "cell_type": "code",
   "execution_count": 2,
   "id": "5fe92c76",
   "metadata": {},
   "outputs": [
    {
     "data": {
      "text/plain": [
       "\"40010473\""
      ]
     },
     "execution_count": 2,
     "metadata": {},
     "output_type": "execute_result"
    }
   ],
   "source": [
    "# we are going to use the Swagger Pet Store server for our example\n",
    "swagger_url = \"https://petstore.swagger.io/v2/swagger.json\"\n",
    "sbox = Boxcars::Swagger.new(swagger_url: swagger_url, context: \"API_token: secret-key\")\n",
    "my_pet = \"40010473\" # example id for below"
   ]
  },
  {
   "cell_type": "code",
   "execution_count": 3,
   "id": "edbdc3b9",
   "metadata": {},
   "outputs": [
    {
     "name": "stdout",
     "output_type": "stream",
     "text": [
      "\u001b[1;30m> Entering Swagger API#run\u001b[0m\n",
      "\u001b[0;34mList the APIs for Pets?\u001b[0m\n",
      "\u001b[0;33mRubyREPL: require 'rest-client'\n",
      "require 'json'\n",
      "\n",
      "response = RestClient.get 'https://petstore.swagger.io/v2/swagger.json'\n",
      "json = JSON.parse(response.body)\n",
      "\n",
      "apis = json[\"paths\"].keys.select { |path| path.start_with?(\"/pet\") }\n",
      "\n",
      "puts \"Answer: #{apis}\"\u001b[0m\n",
      "\u001b[1;33mAnswer: [\"/pet/{petId}\", \"/pet/{petId}/uploadImage\", \"/pet\", \"/pet/findByStatus\", \"/pet/findByTags\"]\n",
      "\u001b[0m\n",
      "\u001b[0;35m{\"status\":\"ok\",\"answer\":\"[\\\"/pet/{petId}\\\", \\\"/pet/{petId}/uploadImage\\\", \\\"/pet\\\", \\\"/pet/findByStatus\\\", \\\"/pet/findByTags\\\"]\",\"explanation\":\"Answer: [\\\"/pet/{petId}\\\", \\\"/pet/{petId}/uploadImage\\\", \\\"/pet\\\", \\\"/pet/findByStatus\\\", \\\"/pet/findByTags\\\"]\",\"code\":\"require 'rest-client'\\nrequire 'json'\\n\\nresponse = RestClient.get 'https://petstore.swagger.io/v2/swagger.json'\\njson = JSON.parse(response.body)\\n\\napis = json[\\\"paths\\\"].keys.select { |path| path.start_with?(\\\"/pet\\\") }\\n\\nputs \\\"Answer: #{apis}\\\"\"}\u001b[0m\n",
      "\u001b[1;30m< Exiting Swagger API#run\u001b[0m\n"
     ]
    },
    {
     "data": {
      "text/plain": [
       "\"[\\\"/pet/{petId}\\\", \\\"/pet/{petId}/uploadImage\\\", \\\"/pet\\\", \\\"/pet/findByStatus\\\", \\\"/pet/findByTags\\\"]\""
      ]
     },
     "execution_count": 3,
     "metadata": {},
     "output_type": "execute_result"
    }
   ],
   "source": [
    "sbox.run \"List the APIs for Pets?\""
   ]
  },
  {
   "cell_type": "code",
   "execution_count": 4,
   "id": "da94d8bd",
   "metadata": {},
   "outputs": [
    {
     "name": "stdout",
     "output_type": "stream",
     "text": [
      "\u001b[1;30m> Entering Swagger API#run\u001b[0m\n",
      "\u001b[0;34mI was watching pet with id 40010473. Has she sold?\u001b[0m\n",
      "\u001b[0;33mRubyREPL: require 'rest-client'\n",
      "require 'json'\n",
      "\n",
      "response = RestClient.get 'https://petstore.swagger.io/v2/pet/40010473'\n",
      "pet = JSON.parse(response.body)\n",
      "\n",
      "puts \"Answer: #{pet['status'] == 'sold' ? 'Yes' : 'No'}\"\u001b[0m\n",
      "\u001b[1;33mAnswer: Yes\n",
      "\u001b[0m\n",
      "\u001b[0;35m{\"status\":\"ok\",\"answer\":\"Yes\",\"explanation\":\"Answer: Yes\",\"code\":\"require 'rest-client'\\nrequire 'json'\\n\\nresponse = RestClient.get 'https://petstore.swagger.io/v2/pet/40010473'\\npet = JSON.parse(response.body)\\n\\nputs \\\"Answer: #{pet['status'] == 'sold' ? 'Yes' : 'No'}\\\"\"}\u001b[0m\n",
      "\u001b[1;30m< Exiting Swagger API#run\u001b[0m\n"
     ]
    },
    {
     "data": {
      "text/plain": [
       "\"Yes\""
      ]
     },
     "execution_count": 4,
     "metadata": {},
     "output_type": "execute_result"
    }
   ],
   "source": [
    "sbox.run \"I was watching pet with id #{my_pet}. Has she sold?\""
   ]
  },
  {
   "cell_type": "code",
   "execution_count": 5,
   "id": "1febda7b",
   "metadata": {},
   "outputs": [
    {
     "name": "stdout",
     "output_type": "stream",
     "text": [
      "\u001b[1;30m> Entering Swagger API#run\u001b[0m\n",
      "\u001b[0;34mI was watching pet with id 40010473. What was her name again?\u001b[0m\n",
      "\u001b[0;33mRubyREPL: require 'rest-client'\n",
      "require 'json'\n",
      "\n",
      "response = RestClient.get 'https://petstore.swagger.io/v2/pet/40010473'\n",
      "pet = JSON.parse(response.body)\n",
      "\n",
      "puts \"Answer: The name of the pet with id 40010473 is #{pet['name']}.\"\u001b[0m\n",
      "\u001b[1;33mAnswer: The name of the pet with id 40010473 is doggie.\n",
      "\u001b[0m\n",
      "\u001b[0;35m{\"status\":\"ok\",\"answer\":\"The name of the pet with id 40010473 is doggie.\",\"explanation\":\"Answer: The name of the pet with id 40010473 is doggie.\",\"code\":\"require 'rest-client'\\nrequire 'json'\\n\\nresponse = RestClient.get 'https://petstore.swagger.io/v2/pet/40010473'\\npet = JSON.parse(response.body)\\n\\nputs \\\"Answer: The name of the pet with id 40010473 is #{pet['name']}.\\\"\"}\u001b[0m\n",
      "\u001b[1;30m< Exiting Swagger API#run\u001b[0m\n"
     ]
    },
    {
     "data": {
      "text/plain": [
       "\"The name of the pet with id 40010473 is doggie.\""
      ]
     },
     "execution_count": 5,
     "metadata": {},
     "output_type": "execute_result"
    }
   ],
   "source": [
    "sbox.run \"I was watching pet with id #{my_pet}. What was her name again?\""
   ]
  },
  {
   "cell_type": "code",
   "execution_count": 6,
   "id": "a0763666",
   "metadata": {},
   "outputs": [
    {
     "name": "stdout",
     "output_type": "stream",
     "text": [
      "\u001b[1;30m> Entering Swagger API#run\u001b[0m\n",
      "\u001b[0;34mUsing the find by status api, how many pets are available?\u001b[0m\n",
      "\u001b[0;33mRubyREPL: require 'rest-client'\n",
      "require 'json'\n",
      "\n",
      "response = RestClient.get 'https://petstore.swagger.io/v2/pet/findByStatus?status=available'\n",
      "pets = JSON.parse(response.body)\n",
      "puts \"Answer: #{pets.length}\"\u001b[0m\n",
      "\u001b[1;33mAnswer: 218\n",
      "\u001b[0m\n",
      "\u001b[0;35m{\"status\":\"ok\",\"answer\":\"218\",\"explanation\":\"Answer: 218\",\"code\":\"require 'rest-client'\\nrequire 'json'\\n\\nresponse = RestClient.get 'https://petstore.swagger.io/v2/pet/findByStatus?status=available'\\npets = JSON.parse(response.body)\\nputs \\\"Answer: #{pets.length}\\\"\"}\u001b[0m\n",
      "\u001b[1;30m< Exiting Swagger API#run\u001b[0m\n"
     ]
    },
    {
     "data": {
      "text/plain": [
       "\"218\""
      ]
     },
     "execution_count": 6,
     "metadata": {},
     "output_type": "execute_result"
    }
   ],
   "source": [
    "sbox.run \"Using the find by status api, how many pets are available?\""
   ]
  },
  {
   "cell_type": "code",
   "execution_count": 7,
   "id": "2cdf7f32",
   "metadata": {},
   "outputs": [
    {
     "name": "stdout",
     "output_type": "stream",
     "text": [
      "\u001b[1;30m> Entering Swagger API#run\u001b[0m\n",
      "\u001b[0;34mWhat is the current store inventory?\u001b[0m\n",
      "\u001b[0;33mRubyREPL: require 'rest-client'\n",
      "require 'json'\n",
      "\n",
      "response = RestClient.get('https://petstore.swagger.io/v2/store/inventory')\n",
      "inventory = JSON.parse(response.body)\n",
      "puts \"Answer: #{inventory}\"\u001b[0m\n",
      "\u001b[1;33mAnswer: {\"sold\"=>93, \"ativo\"=>1, \"placed\"=>2, \"string\"=>629, \"unavailable\"=>1, \"pending\"=>37, \"available\"=>218, \"avalible\"=>1, \"awaiable\"=>1, \"soldout\"=>1, \"kjshadflkjsbadlkjfg\"=>1, \"VL4EQE\"=>1, \"not available\"=>1, \"Available\"=>1}\n",
      "\u001b[0m\n",
      "\u001b[0;35m{\"status\":\"ok\",\"answer\":\"{\\\"sold\\\"=>93, \\\"ativo\\\"=>1, \\\"placed\\\"=>2, \\\"string\\\"=>629, \\\"unavailable\\\"=>1, \\\"pending\\\"=>37, \\\"available\\\"=>218, \\\"avalible\\\"=>1, \\\"awaiable\\\"=>1, \\\"soldout\\\"=>1, \\\"kjshadflkjsbadlkjfg\\\"=>1, \\\"VL4EQE\\\"=>1, \\\"not available\\\"=>1, \\\"Available\\\"=>1}\",\"explanation\":\"Answer: {\\\"sold\\\"=>93, \\\"ativo\\\"=>1, \\\"placed\\\"=>2, \\\"string\\\"=>629, \\\"unavailable\\\"=>1, \\\"pending\\\"=>37, \\\"available\\\"=>218, \\\"avalible\\\"=>1, \\\"awaiable\\\"=>1, \\\"soldout\\\"=>1, \\\"kjshadflkjsbadlkjfg\\\"=>1, \\\"VL4EQE\\\"=>1, \\\"not available\\\"=>1, \\\"Available\\\"=>1}\",\"code\":\"require 'rest-client'\\nrequire 'json'\\n\\nresponse = RestClient.get('https://petstore.swagger.io/v2/store/inventory')\\ninventory = JSON.parse(response.body)\\nputs \\\"Answer: #{inventory}\\\"\"}\u001b[0m\n",
      "\u001b[1;30m< Exiting Swagger API#run\u001b[0m\n"
     ]
    },
    {
     "data": {
      "text/plain": [
       "\"{\\\"sold\\\"=>93, \\\"ativo\\\"=>1, \\\"placed\\\"=>2, \\\"string\\\"=>629, \\\"unavailable\\\"=>1, \\\"pending\\\"=>37, \\\"available\\\"=>218, \\\"avalible\\\"=>1, \\\"awaiable\\\"=>1, \\\"soldout\\\"=>1, \\\"kjshadflkjsbadlkjfg\\\"=>1, \\\"VL4EQE\\\"=>1, \\\"not available\\\"=>1, \\\"Available\\\"=>1}\""
      ]
     },
     "execution_count": 7,
     "metadata": {},
     "output_type": "execute_result"
    }
   ],
   "source": [
    "sbox.run \"What is the current store inventory?\""
   ]
  },
  {
   "cell_type": "code",
   "execution_count": null,
   "id": "30894f64",
   "metadata": {},
   "outputs": [],
   "source": []
  }
 ],
 "metadata": {
  "kernelspec": {
   "display_name": "Ruby 3.0.0",
   "language": "ruby",
   "name": "ruby"
  },
  "language_info": {
   "file_extension": ".rb",
   "mimetype": "application/x-ruby",
   "name": "ruby",
   "version": "3.0.3"
  }
 },
 "nbformat": 4,
 "nbformat_minor": 5
}
