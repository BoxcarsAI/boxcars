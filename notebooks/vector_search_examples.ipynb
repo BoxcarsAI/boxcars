{
 "cells": [
  {
   "attachments": {},
   "cell_type": "markdown",
   "id": "355eef77",
   "metadata": {},
   "source": [
    "# Build / Use Vector Store\n",
    "Below is a simple example of first building an in memory vector store from a Notion markdown text directory, and then using the store to query for search results."
   ]
  },
  {
   "attachments": {},
   "cell_type": "markdown",
   "id": "e33a7b11",
   "metadata": {},
   "source": [
    "## Env Setup\n",
    "Before we get started, install the gems we need here:\n",
    "`gem install boxcars dotenv`\n",
    "and then create / edit .env to have OPENAI_ACCESS_TOKEN"
   ]
  },
  {
   "cell_type": "code",
   "execution_count": null,
   "id": "26e9cbd9",
   "metadata": {},
   "outputs": [],
   "source": [
    "require 'dotenv/load'\n",
    "require 'boxcars'"
   ]
  },
  {
   "attachments": {},
   "cell_type": "markdown",
   "id": "dde3e96d",
   "metadata": {},
   "source": [
    "## Build the Vector Store"
   ]
  },
  {
   "cell_type": "code",
   "execution_count": null,
   "id": "562fc854",
   "metadata": {},
   "outputs": [],
   "source": [
    "hnswlib_vector = Boxcars::VectorStore::Hnswlib::BuildFromFiles.call(\n",
    "  training_data_path: './notebooks/embeddings/Notion_DB/**/*.md',\n",
    "  index_file_path: './notebooks/embeddings/hnswlib_notion_db_index.bin',\n",
    "  json_doc_file_path: './notebooks/embeddings/hnswlib_notion_db_index.json',\n",
    "  force_rebuild: false\n",
    ")\n",
    "puts :built"
   ]
  },
  {
   "attachments": {},
   "cell_type": "markdown",
   "id": "1e9fadf8",
   "metadata": {},
   "source": [
    "## Query the Store"
   ]
  },
  {
   "cell_type": "code",
   "execution_count": null,
   "id": "342ebacb",
   "metadata": {},
   "outputs": [],
   "source": [
    "openai_client = Boxcars::Openai.open_ai_client\n",
    "\n",
    "vector_search = Boxcars::VectorSearch.new(\n",
    "  vector_documents: hnswlib_vector,\n",
    "  openai_connection: openai_client\n",
    ")\n",
    "\n",
    "result = vector_search.call(query: 'What is the work from home policy?')"
   ]
  },
  {
   "cell_type": "code",
   "execution_count": null,
   "id": "2fbe035d",
   "metadata": {},
   "outputs": [],
   "source": [
    "puts result.first[:document].content"
   ]
  },
  {
   "attachments": {},
   "cell_type": "markdown",
   "id": "c415befc",
   "metadata": {},
   "source": [
    "## More\n",
    "You could of course use text files and get similar results. Other libraries can be brought it to handle PDFs and other binary formats. Add Issues and/or PRs for other types that you want supported."
   ]
  }
 ],
 "metadata": {
  "kernelspec": {
   "display_name": "Ruby 3.2.2",
   "language": "ruby",
   "name": "ruby"
  },
  "language_info": {
   "file_extension": ".rb",
   "mimetype": "application/x-ruby",
   "name": "ruby",
   "version": "3.2.2"
  }
 },
 "nbformat": 4,
 "nbformat_minor": 5
}
