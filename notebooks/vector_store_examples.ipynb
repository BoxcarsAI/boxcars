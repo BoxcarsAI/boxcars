{
 "cells": [
  {
   "cell_type": "markdown",
   "id": "355eef77",
   "metadata": {},
   "source": [
    "# Build / Use Vector Store\n",
    "Below is a simple example of first building an in memory vector store from a Notion markdown text directory, and then using the store to query for search results."
   ]
  },
  {
   "cell_type": "markdown",
   "id": "e33a7b11",
   "metadata": {},
   "source": [
    "## Env Setup\n",
    "Before we get started, install the gems we need here:\n",
    "`gem install boxcars dotenv`\n",
    "and then create / edit .env to have OPENAI_ACCESS_TOKEN"
   ]
  },
  {
   "cell_type": "code",
   "execution_count": 1,
   "id": "bc5f28ef",
   "metadata": {},
   "outputs": [
    {
     "data": {
      "text/plain": [
       "true"
      ]
     },
     "execution_count": 1,
     "metadata": {},
     "output_type": "execute_result"
    }
   ],
   "source": [
    "require 'dotenv/load'\n",
    "require 'boxcars'"
   ]
  },
  {
   "cell_type": "markdown",
   "id": "dde3e96d",
   "metadata": {},
   "source": [
    "## Build the Vector Store"
   ]
  },
  {
   "cell_type": "code",
   "execution_count": 2,
   "id": "562fc854",
   "metadata": {},
   "outputs": [
    {
     "name": "stdout",
     "output_type": "stream",
     "text": [
      "Building Hnswlib vector store...\n",
      "Added 50 files to data. Splitting text into chunks...\n",
      "Loaded 50 files from /Users/francis/src/notebooks/boxcars/embeddings/Notion_DB/**/*.md\n",
      "Split 50 files into 140 chunks\n",
      "Generated 140 vectors\n",
      "Added 140 vectors to vector store\n",
      "built\n"
     ]
    }
   ],
   "source": [
    "root = \"./embeddings\"\n",
    "store = Boxcars::VectorStore::Hnswlib::BuildFromFiles.call(\n",
    "  training_data_path: \"#{root}/Notion_DB/**/*.md\",\n",
    "  index_file_path: \"#{root}/hnswlib_notion_db_index.bin\",\n",
    "  force_rebuild: true\n",
    ")\n",
    "puts :built"
   ]
  },
  {
   "cell_type": "markdown",
   "id": "1e9fadf8",
   "metadata": {},
   "source": [
    "## Query the Store"
   ]
  },
  {
   "cell_type": "code",
   "execution_count": 3,
   "id": "342ebacb",
   "metadata": {
    "scrolled": true
   },
   "outputs": [
    {
     "data": {
      "text/plain": [
       "\"we provide you with a laptop that suits your job. Ask HR for further info.\\n- **Workplace**: \\nwe've built a pretty nice office to make sure you like being at Blendle HQ. Feel free to sit where you want. Even better: dare to switch your workplace every once in a while.\\n\\n# Work at Blendle\\n\\n---\\n\\nIf you want to work at Blendle you can check our [job ads here](https://blendle.homerun.co/). If you want to be kept in the loop about Blendle, you can sign up for [our behind the scenes newsletter](https://blendle.homerun.co/yes-keep-me-posted/tr/apply?token=8092d4128c306003d97dd3821bad06f2).\""
      ]
     },
     "execution_count": 3,
     "metadata": {},
     "output_type": "execute_result"
    }
   ],
   "source": [
    "similarity_search = Boxcars::VectorSearch.new(\n",
    "  embeddings: \"#{root}/hnswlib_notion_db_index.json\",\n",
    "  vector_documents: store)\n",
    "ss = similarity_search.call query: \"Do I get a laptop?\", count: 1\n",
    "ss.first[:document].content"
   ]
  },
  {
   "cell_type": "markdown",
   "id": "a3ea8a00",
   "metadata": {},
   "source": [
    "## Answer a Question from Search Results"
   ]
  },
  {
   "cell_type": "code",
   "execution_count": 7,
   "id": "00d56787",
   "metadata": {},
   "outputs": [
    {
     "name": "stdout",
     "output_type": "stream",
     "text": [
      "\u001b[1;30m> Entering VectorAnswer#run\u001b[0m\n",
      "\u001b[0;34mDo I get a laptop?\u001b[0m\n",
      "\u001b[0;35m{\"status\":\"ok\",\"answer\":\"Yes, you will be provided with a laptop that suits your job. You can ask HR for further information.\",\"explanation\":\"Answer: Yes, you will be provided with a laptop that suits your job. You can ask HR for further information.\"}\u001b[0m\n",
      "\u001b[1;30m< Exiting VectorAnswer#run\u001b[0m\n"
     ]
    },
    {
     "data": {
      "text/plain": [
       "\"Yes, you will be provided with a laptop that suits your job. You can ask HR for further information.\""
      ]
     },
     "execution_count": 7,
     "metadata": {},
     "output_type": "execute_result"
    }
   ],
   "source": [
    "va = Boxcars::VectorAnswer.new(embeddings: \"#{root}/hnswlib_notion_db_index.json\", vector_documents: store)\n",
    "va.conduct(\"Do I get a laptop?\").to_answer"
   ]
  },
  {
   "cell_type": "markdown",
   "id": "c415befc",
   "metadata": {},
   "source": [
    "## More\n",
    "You could of course use text files and get similar results. Other libraries can be brought it to handle PDFs and other binary formats. Add Issues and/or PRs for other types that you want supported."
   ]
  }
 ],
 "metadata": {
  "kernelspec": {
   "display_name": "Ruby 3.2.2",
   "language": "ruby",
   "name": "ruby"
  },
  "language_info": {
   "file_extension": ".rb",
   "mimetype": "application/x-ruby",
   "name": "ruby",
   "version": "3.2.2"
  }
 },
 "nbformat": 4,
 "nbformat_minor": 5
}
