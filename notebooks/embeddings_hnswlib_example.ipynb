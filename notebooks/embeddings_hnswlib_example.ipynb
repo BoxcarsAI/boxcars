{
 "cells": [
  {
   "attachments": {},
   "cell_type": "markdown",
   "metadata": {},
   "source": [
    "# Boxcars Embeddings example with hnswlib\n",
    "\n",
    "\n",
    "```bash \n",
    "gem install boxcars\n",
    "```\n",
    "\n",
    "and then create / edit .env to have OPENAI_ACCESS_TOEKN \n",
    "\n",
    "```ruby\n",
    "require 'dotenv/load'\n",
    "require 'boxcars'\n",
    "```"
   ]
  },
  {
   "attachments": {},
   "cell_type": "markdown",
   "metadata": {},
   "source": [
    "## Examples\n",
    "\n",
    "### Boxcars::Embeddings::SaveToHnswlib\n",
    "\n",
    "Create hwswlib index file. It will use OpenAI's embeddings endpoint to create the embeddings and then save them to a hnswlib index file."
   ]
  },
  {
   "cell_type": "code",
   "execution_count": null,
   "metadata": {
    "vscode": {
     "languageId": "ruby"
    }
   },
   "outputs": [],
   "source": [
    "# Create a new hnswlib index\n",
    "storage = Boxcars::Embeddings::Hnswlib::BuildVectorStore.call(\n",
    "  training_data_path: 'spec/fixtures/training_data/**/*.md',\n",
    "  index_file_path: 'tmp/test_hnsw_index'\n",
    ")\n",
    "\n",
    "openai_client = OpenAI::Client.new(access_token: ENV.fetch('OPENAI_API_KEY', nil))\n",
    "\n",
    "similarity_search = Boxcars::Embeddings::SimilaritySearch.new(embeddings: storage[:document_embeddings], vector_store: storage[:vector_store], openai_connection: openai_client)\n",
    "\n",
    "similarity_search.call(query: 'how many implementations are there for hnswlib?')"
   ]
  },
  {
   "cell_type": "markdown",
   "metadata": {},
   "source": []
  }
 ],
"metadata": {
  "kernelspec": {
   "display_name": "Ruby 3.0.0",
   "language": "ruby",
   "name": "ruby"
  },
  "language_info": {
   "file_extension": ".rb",
   "mimetype": "application/x-ruby",
   "name": "ruby",
   "version": "3.0.3"
  }
 },
 "nbformat": 4,
 "nbformat_minor": 5
}
